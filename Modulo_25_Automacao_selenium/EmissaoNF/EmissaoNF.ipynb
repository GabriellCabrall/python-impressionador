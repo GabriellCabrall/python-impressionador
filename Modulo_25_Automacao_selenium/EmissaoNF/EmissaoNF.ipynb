{
 "cells": [
  {
   "cell_type": "code",
   "execution_count": null,
   "id": "5937a939",
   "metadata": {},
   "outputs": [],
   "source": [
    "from selenium import webdriver\n",
    "from selenium.webdriver.chrome.service import Service\n",
    "from webdriver_manager.chrome import ChromeDriverManager\n",
    "from selenium.webdriver.common.by import By\n",
    "from selenium.webdriver.common.keys import Keys\n",
    "\n",
    "options = webdriver.ChromeOptions()\n",
    "options.add_experimental_option(\"prefs\", {\n",
    "    \"download.default.directory\": r\"C:\\Users\\gabriel.cabral\\Downloads\",\n",
    "    \"download.prompt_for_download\": False,\n",
    "    \"safebrowsing.enabled\": True\n",
    "})\n",
    "\n",
    "servico = Service(ChromeDriverManager().install())\n",
    "navegador = webdriver.Chrome(service=servico, options=options)"
   ]
  },
  {
   "cell_type": "code",
   "execution_count": null,
   "id": "eacbd5c6",
   "metadata": {},
   "outputs": [],
   "source": [
    "# Entrar na página de login\n",
    "import os\n",
    "\n",
    "caminho = os.getcwd()\n",
    "arquivo = caminho + r\"\\login.html\"\n",
    "navegador.get(arquivo)"
   ]
  },
  {
   "cell_type": "code",
   "execution_count": null,
   "id": "44540b2e",
   "metadata": {},
   "outputs": [],
   "source": [
    "# Preencher o login e a senha\n",
    "navegador.find_element(By.XPATH, '/html/body/div/form/input[1]').send_keys('uhfuhdsuh')\n",
    "navegador.find_element(By.XPATH, '/html/body/div/form/input[2]').send_keys('uhkabvyal')\n",
    "\n",
    "# clicar no botão de fazer login\n",
    "navegador.find_element(By.XPATH, '/html/body/div/form/button').click()"
   ]
  },
  {
   "cell_type": "code",
   "execution_count": null,
   "id": "489bc9d8",
   "metadata": {},
   "outputs": [],
   "source": [
    "import pandas as pd\n",
    "\n",
    "tabela = pd.read_excel('NotasEmitir.xlsx')\n",
    "display(tabela)"
   ]
  },
  {
   "cell_type": "code",
   "execution_count": null,
   "id": "3bdc0dcd",
   "metadata": {},
   "outputs": [],
   "source": [
    "# Para cada linha da tabela\n",
    "for linha in tabela.index:\n",
    "\n",
    "    # Preencher os dados da NF\n",
    "\n",
    "    # nome\n",
    "    navegador.find_element(By.NAME, 'nome').send_keys(tabela.loc[linha, 'Cliente'])\n",
    "\n",
    "    # endereço\n",
    "    navegador.find_element(By.NAME, 'endereco').send_keys(tabela.loc[linha, 'Endereço'])\n",
    "\n",
    "    # bairro\n",
    "    navegador.find_element(By.NAME, 'bairro').send_keys(tabela.loc[linha, 'Bairro'])\n",
    "\n",
    "    # municipio\n",
    "    navegador.find_element(By.NAME, 'municipio').send_keys(tabela.loc[linha, 'Municipio'])\n",
    "\n",
    "    # cep\n",
    "    navegador.find_element(By.NAME, 'cep').send_keys(str(tabela.loc[linha, 'CEP']))\n",
    "\n",
    "    # UF\n",
    "    navegador.find_element(By.NAME, 'uf').send_keys(tabela.loc[linha, 'UF'])\n",
    "\n",
    "    # cnpj\n",
    "    navegador.find_element(By.NAME, 'cnpj').send_keys(str(tabela.loc[linha, 'CPF/CNPJ']))\n",
    "\n",
    "    # inscrição\n",
    "    navegador.find_element(By.NAME, 'inscricao').send_keys(str(tabela.loc[linha, 'Inscricao Estadual']))\n",
    "\n",
    "    # descrição\n",
    "    navegador.find_element(By.NAME, 'descricao').send_keys(tabela.loc[linha, 'Descrição'])\n",
    "\n",
    "    # quantidade\n",
    "    navegador.find_element(By.NAME, 'quantidade').send_keys(str(tabela.loc[linha, 'Quantidade']))\n",
    "\n",
    "    # valor unitario\n",
    "    navegador.find_element(By.NAME, 'valor_unitario').send_keys(str(tabela.loc[linha, 'Valor Unitario']))\n",
    "\n",
    "    # valor total\n",
    "    navegador.find_element(By.NAME, 'total').send_keys(str(tabela.loc[linha, 'Valor Total']))\n",
    "    \n",
    "    # clicar em emitir a nota fiscal\n",
    "    navegador.find_element(By.CLASS_NAME, 'registerbtn').click()\n",
    "    \n",
    "    # recarregar a página para limpar o formulário\n",
    "    navegador.refresh()"
   ]
  },
  {
   "cell_type": "code",
   "execution_count": null,
   "id": "ec810805",
   "metadata": {},
   "outputs": [],
   "source": []
  }
 ],
 "metadata": {
  "kernelspec": {
   "display_name": "Python 3 (ipykernel)",
   "language": "python",
   "name": "python3"
  },
  "language_info": {
   "codemirror_mode": {
    "name": "ipython",
    "version": 3
   },
   "file_extension": ".py",
   "mimetype": "text/x-python",
   "name": "python",
   "nbconvert_exporter": "python",
   "pygments_lexer": "ipython3",
   "version": "3.10.9"
  }
 },
 "nbformat": 4,
 "nbformat_minor": 5
}
