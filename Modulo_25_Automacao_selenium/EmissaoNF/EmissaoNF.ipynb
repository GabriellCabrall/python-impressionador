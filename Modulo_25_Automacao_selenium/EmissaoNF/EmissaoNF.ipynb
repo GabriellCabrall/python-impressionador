{
 "cells": [
  {
   "cell_type": "code",
   "execution_count": 6,
   "id": "40879474",
   "metadata": {},
   "outputs": [],
   "source": [
    "from selenium import webdriver\n",
    "from selenium.webdriver.chrome.service import Service\n",
    "from webdriver_manager.chrome import ChromeDriverManager\n",
    "from selenium.webdriver.common.by import By\n",
    "from selenium.webdriver.common.keys import Keys\n",
    "\n",
    "servico = Service(ChromeDriverManager().install())\n",
    "navegador = webdriver.Chrome(service=servico)"
   ]
  },
  {
   "cell_type": "code",
   "execution_count": 7,
   "id": "e10281d0",
   "metadata": {},
   "outputs": [],
   "source": [
    "# Entrar na página de login\n",
    "import os\n",
    "\n",
    "caminho = os.getcwd()\n",
    "arquivo = caminho + r\"\\login.html\"\n",
    "navegador.get(arquivo)"
   ]
  },
  {
   "cell_type": "code",
   "execution_count": 10,
   "id": "51c97c31",
   "metadata": {},
   "outputs": [],
   "source": [
    "# Preencher o login e a senha\n",
    "navegador.find_element(By.XPATH, '/html/body/div/form/input[1]').send_keys('uhfuhdsuh')\n",
    "navegador.find_element(By.XPATH, '/html/body/div/form/input[2]').send_keys('uhkabvyal')\n",
    "\n",
    "# clicar no botão de fazer login\n",
    "navegador.find_element(By.XPATH, '/html/body/div/form/button').click()"
   ]
  },
  {
   "cell_type": "code",
   "execution_count": 16,
   "id": "593e2e9a",
   "metadata": {},
   "outputs": [],
   "source": [
    "# Preencher os dados da NF\n",
    "\n",
    "# nome\n",
    "navegador.find_element(By.NAME, 'nome').send_keys('Gabriel Cabral')\n",
    "\n",
    "# endereço\n",
    "navegador.find_element(By.NAME, 'endereco').send_keys('Rua 8 chácara 663')\n",
    "\n",
    "# bairro\n",
    "navegador.find_element(By.NAME, 'bairro').send_keys('Veneza Pires')\n",
    "\n",
    "# municipio\n",
    "navegador.find_element(By.NAME, 'municipio').send_keys('Brasólia')\n",
    "\n",
    "# cep\n",
    "navegador.find_element(By.NAME, 'cep').send_keys('95008-353')\n",
    "\n",
    "# UF\n",
    "navegador.find_element(By.NAME, 'uf').send_keys('DF')\n",
    "\n",
    "# cnpj\n",
    "navegador.find_element(By.NAME, 'cnpj').send_keys('02157435178')\n",
    "\n",
    "# inscrição\n",
    "navegador.find_element(By.NAME, 'inscricao').send_keys('inscrição estadual????')\n",
    "\n",
    "# descrição\n",
    "navegador.find_element(By.NAME, 'descricao').send_keys('Descrição do produto')\n",
    "\n",
    "# quantidade\n",
    "quantidade = 10\n",
    "navegador.find_element(By.NAME, 'quantidade').send_keys(quantidade)\n",
    "\n",
    "# valor unitario\n",
    "valor = 12.5\n",
    "navegador.find_element(By.NAME, 'valor_unitario').send_keys(valor)\n",
    "\n",
    "# valor total\n",
    "valor_total = quantidade*valor\n",
    "navegador.find_element(By.NAME, 'total').send_keys(valor_total)"
   ]
  },
  {
   "cell_type": "code",
   "execution_count": 17,
   "id": "d4a621ad",
   "metadata": {},
   "outputs": [],
   "source": [
    "# clicar em emitir a nota fiscal\n",
    "navegador.find_element(By.CLASS_NAME, 'registerbtn').click()"
   ]
  }
 ],
 "metadata": {
  "kernelspec": {
   "display_name": "Python 3 (ipykernel)",
   "language": "python",
   "name": "python3"
  },
  "language_info": {
   "codemirror_mode": {
    "name": "ipython",
    "version": 3
   },
   "file_extension": ".py",
   "mimetype": "text/x-python",
   "name": "python",
   "nbconvert_exporter": "python",
   "pygments_lexer": "ipython3",
   "version": "3.10.9"
  }
 },
 "nbformat": 4,
 "nbformat_minor": 5
}
