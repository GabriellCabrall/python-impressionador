{
 "cells": [
  {
   "cell_type": "markdown",
   "id": "cf42a93c",
   "metadata": {},
   "source": [
    "### Cuidados!\n",
    " \n",
    "1. Whatsapp não gosta de nenhum tipo de automação\n",
    "2. Isso pode dar merda, já to avisando\n",
    "3. Isso não é o uso da API oficial do Whatsapp, o próprio whatsapp tem uma API oficial. Se o seu objetivo é fazer envio em massa ou criar aqueles robozinhos que respondem automaticamente no whatsapp, então use a API oficial\n",
    "4. Meu objetivo é 100% educacional\n",
    "\n",
    "### Dito isso, bora automatizar o envio de mensagens no Whatsapp\n",
    "\n",
    "- Vamos usar o Selenium (vídeo da configuração na descrição)\n",
    "- Temos 1 alternativa muito boa:\n",
    "- Usar o https://web.whatsapp.com/send?phone=numero&text=texto (mais fácil, mais seguro, mas mais demorado)\n"
   ]
  },
  {
   "cell_type": "code",
   "execution_count": 28,
   "id": "dc363f99",
   "metadata": {},
   "outputs": [],
   "source": [
    "from selenium import webdriver\n",
    "from selenium.webdriver.chrome.service import Service\n",
    "from webdriver_manager.chrome import ChromeDriverManager\n",
    "from selenium.webdriver.common.by import By\n",
    "import urllib\n",
    "import time\n",
    "import pandas as pd\n",
    "\n",
    "servico = Service(ChromeDriverManager().install())\n",
    "options = webdriver.ChromeOptions()\n",
    "options.add_argument(r'user-data-dir=C:\\Users\\gabriel.cabral\\AppData\\Local\\Google\\Chrome\\User Data\\Profile Selenium')\n",
    "\n",
    "navegador = webdriver.Chrome(service=servico, options=options)"
   ]
  },
  {
   "cell_type": "code",
   "execution_count": 29,
   "id": "5ec2043b",
   "metadata": {},
   "outputs": [],
   "source": [
    "navegador.get('https://web.whatsapp.com/')\n",
    "while len(navegador.find_elements(By.ID, 'side')) < 1:\n",
    "    time.sleep(1)\n",
    "time.sleep(2)"
   ]
  },
  {
   "cell_type": "code",
   "execution_count": 30,
   "id": "73522134",
   "metadata": {},
   "outputs": [
    {
     "data": {
      "text/html": [
       "<div>\n",
       "<style scoped>\n",
       "    .dataframe tbody tr th:only-of-type {\n",
       "        vertical-align: middle;\n",
       "    }\n",
       "\n",
       "    .dataframe tbody tr th {\n",
       "        vertical-align: top;\n",
       "    }\n",
       "\n",
       "    .dataframe thead th {\n",
       "        text-align: right;\n",
       "    }\n",
       "</style>\n",
       "<table border=\"1\" class=\"dataframe\">\n",
       "  <thead>\n",
       "    <tr style=\"text-align: right;\">\n",
       "      <th></th>\n",
       "      <th>nome</th>\n",
       "      <th>mensagem</th>\n",
       "      <th>arquivo</th>\n",
       "      <th>telefone</th>\n",
       "    </tr>\n",
       "  </thead>\n",
       "  <tbody>\n",
       "    <tr>\n",
       "      <th>0</th>\n",
       "      <td>João Marcos</td>\n",
       "      <td>E aí, fulano, tudo certo? (automática)</td>\n",
       "      <td>N</td>\n",
       "      <td>5561984268048</td>\n",
       "    </tr>\n",
       "    <tr>\n",
       "      <th>1</th>\n",
       "      <td>Poly</td>\n",
       "      <td>Coe fulano, bora surfar? (automática)</td>\n",
       "      <td>N</td>\n",
       "      <td>5561998731116</td>\n",
       "    </tr>\n",
       "    <tr>\n",
       "      <th>2</th>\n",
       "      <td>Gui Dilan</td>\n",
       "      <td>Viajou, fulano. Olha isso: (automática)</td>\n",
       "      <td>pythonimpressionador.png</td>\n",
       "      <td>5561992519568</td>\n",
       "    </tr>\n",
       "  </tbody>\n",
       "</table>\n",
       "</div>"
      ],
      "text/plain": [
       "          nome                                 mensagem  \\\n",
       "0  João Marcos   E aí, fulano, tudo certo? (automática)   \n",
       "1         Poly    Coe fulano, bora surfar? (automática)   \n",
       "2    Gui Dilan  Viajou, fulano. Olha isso: (automática)   \n",
       "\n",
       "                    arquivo       telefone  \n",
       "0                         N  5561984268048  \n",
       "1                         N  5561998731116  \n",
       "2  pythonimpressionador.png  5561992519568  "
      ]
     },
     "metadata": {},
     "output_type": "display_data"
    }
   ],
   "source": [
    "# whatsapp já carregado\n",
    "tabela = pd.read_excel('Envios.xlsx')\n",
    "display(tabela)"
   ]
  },
  {
   "cell_type": "code",
   "execution_count": 31,
   "id": "352c0490",
   "metadata": {},
   "outputs": [],
   "source": [
    "import os\n",
    "\n",
    "for linha in tabela.index:\n",
    "    #enviar mensagem para a pessoa\n",
    "    nome = tabela.loc[linha, 'nome']\n",
    "    mensagem = tabela.loc[linha, 'mensagem']\n",
    "    arquivo = tabela.loc[linha, 'arquivo']\n",
    "    telefone = tabela.loc[linha, 'telefone']\n",
    "    \n",
    "    texto = mensagem.replace('fulano', nome)\n",
    "    texto = urllib.parse.quote(texto)\n",
    "    \n",
    "    link = f\"https://web.whatsapp.com/send?phone={telefone}&text={texto}\"\n",
    "    navegador.get(link)\n",
    "    \n",
    "    #esperar a tela carregar\n",
    "    while len(navegador.find_elements(By.XPATH, '//*[@id=\"main\"]/footer/div[1]/div/span[2]/div/div[2]/div[2]/button/span')) < 1:\n",
    "        time.sleep(1)\n",
    "    time.sleep(2)\n",
    "    \n",
    "    if len(navegador.find_elements(By.XPATH, '//*[@id=\"app\"]/div/span[2]/div/span/div/div/div/div/div/div[1]')) < 1:\n",
    "        #enviar a mensagem\n",
    "        navegador.find_element(By.XPATH, '//*[@id=\"main\"]/footer/div[1]/div/span[2]/div/div[2]/div[2]/button/span').click()\n",
    "        \n",
    "        if arquivo != 'N':\n",
    "            caminho_completo = os.path.abspath(f'arquivos/{arquivo}')\n",
    "            navegador.find_element(By.XPATH, '//*[@id=\"main\"]/footer/div[1]/div/span[2]/div/div[1]/div[2]/div/div/span').click()\n",
    "            navegador.find_element(By.XPATH, '//*[@id=\"main\"]/footer/div[1]/div/span[2]/div/div[1]/div[2]/div/span/div/div/ul/li[4]/button/input').send_keys(caminho_completo)\n",
    "            time.sleep(2)\n",
    "            navegador.find_element(By.XPATH, '//*[@id=\"app\"]/div/div/div[3]/div[2]/span/div/span/div/div/div[2]/div/div[2]/div[2]/div/div').click()\n",
    "            \n",
    "        time.sleep(2)"
   ]
  },
  {
   "cell_type": "code",
   "execution_count": 32,
   "id": "3159166d",
   "metadata": {},
   "outputs": [
    {
     "name": "stdout",
     "output_type": "stream",
     "text": [
      "https://web.whatsapp.com/send?phone=5561992519568&text=Viajou%2C%20Gui%20Dilan.%20Olha%20isso%3A%20%28autom%C3%A1tica%29\n"
     ]
    }
   ],
   "source": [
    "print(link)"
   ]
  }
 ],
 "metadata": {
  "kernelspec": {
   "display_name": "Python 3 (ipykernel)",
   "language": "python",
   "name": "python3"
  },
  "language_info": {
   "codemirror_mode": {
    "name": "ipython",
    "version": 3
   },
   "file_extension": ".py",
   "mimetype": "text/x-python",
   "name": "python",
   "nbconvert_exporter": "python",
   "pygments_lexer": "ipython3",
   "version": "3.10.9"
  }
 },
 "nbformat": 4,
 "nbformat_minor": 5
}
