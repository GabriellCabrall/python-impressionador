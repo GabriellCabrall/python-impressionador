{
 "cells": [
  {
   "cell_type": "code",
   "execution_count": null,
   "id": "0417d658",
   "metadata": {},
   "outputs": [],
   "source": [
    "# criar o navegador\n",
    "from selenium import webdriver\n",
    "from selenium.webdriver.chrome.service import Service\n",
    "from webdriver_manager.chrome import ChromeDriverManager\n",
    "from selenium.webdriver.common.by import By\n",
    "from selenium.webdriver.common.keys import Keys\n",
    "\n",
    "servico = Service(ChromeDriverManager().install())\n",
    "navegador = webdriver.Chrome(service=servico)"
   ]
  },
  {
   "cell_type": "code",
   "execution_count": null,
   "id": "409e7f72",
   "metadata": {},
   "outputs": [],
   "source": [
    "# entrar no index.html\n",
    "import os\n",
    "\n",
    "caminho = os.getcwd()\n",
    "arquivo = caminho + r\"\\index.html\""
   ]
  },
  {
   "cell_type": "code",
   "execution_count": null,
   "id": "d9a860ca",
   "metadata": {},
   "outputs": [],
   "source": [
    "# importar a base de dados\n",
    "import pandas as pd\n",
    "\n",
    "tabela = pd.read_excel('Processos.xlsx')\n",
    "display(tabela)"
   ]
  },
  {
   "cell_type": "code",
   "execution_count": null,
   "id": "dd19d362",
   "metadata": {},
   "outputs": [],
   "source": [
    "# escolher um estado\n",
    "from selenium.webdriver import ActionChains\n",
    "import time\n",
    "\n",
    "# para cada linha da tabela\n",
    "for linha in tabela.index:\n",
    "    navegador.get(arquivo)\n",
    "\n",
    "    botao = navegador.find_element(By.CLASS_NAME, 'dropdown-menu')\n",
    "    ActionChains(navegador).move_to_element(botao).perform()\n",
    "    \n",
    "    cidade = tabela.loc[linha, 'Cidade']\n",
    "    navegador.find_element(By.PARTIAL_LINK_TEXT, cidade).click()\n",
    "    \n",
    "    # mudar para a nova aba\n",
    "    aba_original = navegador.window_handles[0]\n",
    "    indice = 1 + linha\n",
    "    nova_aba = navegador.window_handles[indice]\n",
    "    navegador.switch_to.window(nova_aba)\n",
    "    \n",
    "    # preencher o formulário com os dados da busca\n",
    "    navegador.find_element(By.ID, 'nome').send_keys(tabela.loc[linha, 'Nome'])\n",
    "    navegador.find_element(By.ID, 'advogado').send_keys(tabela.loc[linha, 'Advogado'])\n",
    "    navegador.find_element(By.ID, 'numero').send_keys(tabela.loc[linha, 'Processo'])\n",
    "    # clicar em pesquisar\n",
    "    navegador.find_element(By.CLASS_NAME, 'registerbtn').click()\n",
    "    \n",
    "    # confirmar a pesquisa\n",
    "    alerta = navegador.switch_to.alert\n",
    "    alerta.accept()\n",
    "    \n",
    "    # esperar o resultado da pesquisa e agir de acordo com o resultado\n",
    "    while True:\n",
    "        try:\n",
    "            alerta = navegador.switch_to.alert\n",
    "            break\n",
    "        except:\n",
    "            time.sleep(1)\n",
    "\n",
    "    texto_alerta = alerta.text\n",
    "    if 'Processo encontrado com sucesso' in texto_alerta:\n",
    "        alerta.accept()\n",
    "        tabela.loc[linha, 'Status'] = 'Encontrado'\n",
    "    else:\n",
    "        alerta.accept()\n",
    "        tabela.loc[linha, 'Status'] = 'Não encontrado'"
   ]
  },
  {
   "cell_type": "code",
   "execution_count": null,
   "id": "ec43cb4b",
   "metadata": {},
   "outputs": [],
   "source": [
    "display(tabela)"
   ]
  }
 ],
 "metadata": {
  "kernelspec": {
   "display_name": "Python 3 (ipykernel)",
   "language": "python",
   "name": "python3"
  },
  "language_info": {
   "codemirror_mode": {
    "name": "ipython",
    "version": 3
   },
   "file_extension": ".py",
   "mimetype": "text/x-python",
   "name": "python",
   "nbconvert_exporter": "python",
   "pygments_lexer": "ipython3",
   "version": "3.10.9"
  }
 },
 "nbformat": 4,
 "nbformat_minor": 5
}
