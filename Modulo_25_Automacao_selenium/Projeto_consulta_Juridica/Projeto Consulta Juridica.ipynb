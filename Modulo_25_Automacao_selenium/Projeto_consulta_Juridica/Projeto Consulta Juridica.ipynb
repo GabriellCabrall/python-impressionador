{
 "cells": [
  {
   "cell_type": "code",
   "execution_count": 40,
   "id": "a7272a91",
   "metadata": {},
   "outputs": [],
   "source": [
    "# criar o navegador\n",
    "from selenium import webdriver\n",
    "from selenium.webdriver.chrome.service import Service\n",
    "from webdriver_manager.chrome import ChromeDriverManager\n",
    "from selenium.webdriver.common.by import By\n",
    "from selenium.webdriver.common.keys import Keys\n",
    "\n",
    "servico = Service(ChromeDriverManager().install())\n",
    "navegador = webdriver.Chrome(service=servico)"
   ]
  },
  {
   "cell_type": "code",
   "execution_count": 41,
   "id": "61e4b1d0",
   "metadata": {},
   "outputs": [],
   "source": [
    "# entrar no index.html\n",
    "import os\n",
    "\n",
    "caminho = os.getcwd()\n",
    "arquivo = caminho + r\"\\index.html\"\n",
    "navegador.get(arquivo)"
   ]
  },
  {
   "cell_type": "code",
   "execution_count": 42,
   "id": "a23cbf33",
   "metadata": {},
   "outputs": [],
   "source": [
    "# escolher um estado\n",
    "from selenium.webdriver import ActionChains\n",
    "\n",
    "botao = navegador.find_element(By.CLASS_NAME, 'dropdown-menu')\n",
    "ActionChains(navegador).move_to_element(botao).perform()\n",
    "\n",
    "navegador.find_element(By.XPATH, '/html/body/div/div/div/a[2]').click()"
   ]
  },
  {
   "cell_type": "code",
   "execution_count": 43,
   "id": "61a6f597",
   "metadata": {},
   "outputs": [],
   "source": [
    "# mudar para a nova aba\n",
    "aba_original = navegador.window_handles[0]\n",
    "nova_aba = navegador.window_handles[1]\n",
    "\n",
    "navegador.switch_to.window(nova_aba)\n",
    "# preencher o formulário com os dados da busca\n",
    "navegador.find_element(By.ID, 'nome').send_keys('Gabriel Cabral')\n",
    "navegador.find_element(By.ID, 'advogado').send_keys('Cabral Gabriel')\n",
    "navegador.find_element(By.ID, 'numero').send_keys('4820')\n",
    "\n",
    "# clicar em pesquisar\n",
    "navegador.find_element(By.CLASS_NAME, 'registerbtn').click()"
   ]
  },
  {
   "cell_type": "code",
   "execution_count": 44,
   "id": "d8eda5c4",
   "metadata": {},
   "outputs": [],
   "source": [
    "# confirmar a pesquisa\n",
    "alerta = navegador.switch_to.alert\n",
    "alerta.accept()"
   ]
  },
  {
   "cell_type": "code",
   "execution_count": 45,
   "id": "59465ddf",
   "metadata": {},
   "outputs": [
    {
     "name": "stdout",
     "output_type": "stream",
     "text": [
      "Processo não encontrado!\n"
     ]
    }
   ],
   "source": [
    "# esperar o resultado da pesquisa e agir de acordo com o resultado\n",
    "import time\n",
    "\n",
    "while True:\n",
    "    try:\n",
    "        alerta = navegador.switch_to.alert\n",
    "        break\n",
    "    except:\n",
    "        time.sleep(1)\n",
    "        \n",
    "texto_alerta = alerta.text\n",
    "if 'Processo encontrado com sucesso' in texto_alerta:\n",
    "    alerta.accept()\n",
    "    print('Processo foi encontrado!')\n",
    "else:\n",
    "    alerta.accept()\n",
    "    print('Processo não encontrado!')"
   ]
  }
 ],
 "metadata": {
  "kernelspec": {
   "display_name": "Python 3 (ipykernel)",
   "language": "python",
   "name": "python3"
  },
  "language_info": {
   "codemirror_mode": {
    "name": "ipython",
    "version": 3
   },
   "file_extension": ".py",
   "mimetype": "text/x-python",
   "name": "python",
   "nbconvert_exporter": "python",
   "pygments_lexer": "ipython3",
   "version": "3.10.9"
  }
 },
 "nbformat": 4,
 "nbformat_minor": 5
}
