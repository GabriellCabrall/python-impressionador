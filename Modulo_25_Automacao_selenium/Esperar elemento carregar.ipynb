{
 "cells": [
  {
   "cell_type": "code",
   "execution_count": 9,
   "id": "7276de40",
   "metadata": {},
   "outputs": [],
   "source": [
    "from selenium import webdriver\n",
    "from selenium.webdriver.chrome.service import Service\n",
    "from webdriver_manager.chrome import ChromeDriverManager\n",
    "from selenium.webdriver.common.by import By\n",
    "from selenium.webdriver.common.keys import Keys\n",
    "\n",
    "servico = Service(ChromeDriverManager().install())\n",
    "navegador = webdriver.Chrome(service=servico)"
   ]
  },
  {
   "cell_type": "code",
   "execution_count": 11,
   "id": "2e8cdb08",
   "metadata": {},
   "outputs": [],
   "source": [
    "# Na marra\n",
    "import time\n",
    "\n",
    "navegador.get('https://www.hashtagtreinamentos.com/')\n",
    "time.sleep(15)\n",
    "navegador.find_element(By.CLASS_NAME, 'eicon-close').click()"
   ]
  },
  {
   "cell_type": "code",
   "execution_count": 14,
   "id": "0e03ec7d",
   "metadata": {},
   "outputs": [],
   "source": [
    "# loop\n",
    "navegador.get('https://www.hashtagtreinamentos.com/')\n",
    "\n",
    "while len(navegador.find_elements(By.CLASS_NAME, 'eicon-close')) < 1:\n",
    "    time.sleep(1)\n",
    "    \n",
    "navegador.find_element(By.CLASS_NAME, 'eicon-close').click()"
   ]
  },
  {
   "cell_type": "code",
   "execution_count": 20,
   "id": "6098274f",
   "metadata": {},
   "outputs": [],
   "source": [
    "# EC WebDriverWait\n",
    "from selenium.webdriver.support.wait import WebDriverWait\n",
    "from selenium.webdriver.support import expected_conditions as EC\n",
    "\n",
    "navegador.get('https://www.hashtagtreinamentos.com/')\n",
    "\n",
    "elemento = WebDriverWait(navegador, 20).until(EC.presence_of_element_located((By.CLASS_NAME, 'eicon-close')))\n",
    "time.sleep(1)\n",
    "\n",
    "elemento.click()"
   ]
  }
 ],
 "metadata": {
  "kernelspec": {
   "display_name": "Python 3 (ipykernel)",
   "language": "python",
   "name": "python3"
  },
  "language_info": {
   "codemirror_mode": {
    "name": "ipython",
    "version": 3
   },
   "file_extension": ".py",
   "mimetype": "text/x-python",
   "name": "python",
   "nbconvert_exporter": "python",
   "pygments_lexer": "ipython3",
   "version": "3.10.9"
  }
 },
 "nbformat": 4,
 "nbformat_minor": 5
}
