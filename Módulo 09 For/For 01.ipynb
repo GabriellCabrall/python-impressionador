{
 "cells": [
  {
   "cell_type": "markdown",
   "metadata": {},
   "source": [
    "# Estrutura de Repetição: for\n",
    "\n",
    "### Funcionamento:"
   ]
  },
  {
   "cell_type": "raw",
   "metadata": {},
   "source": [
    "for i in range(n):\n",
    "    repetir código n vezes"
   ]
  },
  {
   "cell_type": "code",
   "execution_count": 3,
   "metadata": {},
   "outputs": [
    {
     "name": "stdout",
     "output_type": "stream",
     "text": [
      "0\n",
      "1\n",
      "2\n",
      "3\n",
      "4\n"
     ]
    }
   ],
   "source": [
    "for i in range(5):\n",
    "    print(i)"
   ]
  },
  {
   "cell_type": "markdown",
   "metadata": {},
   "source": [
    "- Imagine que você está construindo uma automação para enviar todo dia por e-mail um resumo da produção de uma fábrica. Construa um código que exiba a quantidade produzida de cada os produto nesse \"e-mail\""
   ]
  },
  {
   "cell_type": "code",
   "execution_count": 7,
   "metadata": {},
   "outputs": [
    {
     "name": "stdout",
     "output_type": "stream",
     "text": [
      "15000 unidades de coca\n",
      "12000 unidades de pepsi\n",
      "13000 unidades de guarana\n",
      "5000 unidades de sprite\n",
      "250 unidades de fanta\n"
     ]
    }
   ],
   "source": [
    "produtos = ['coca', 'pepsi', 'guarana', 'sprite', 'fanta']\n",
    "producao = [15000, 12000, 13000, 5000, 250]\n",
    "\n",
    "for i in range(len(produtos)):\n",
    "    print(\"{} unidades de {}\".format(producao[i], produtos[i]))"
   ]
  }
 ],
 "metadata": {
  "kernelspec": {
   "display_name": "Python 3.10.5 64-bit",
   "language": "python",
   "name": "python3"
  },
  "language_info": {
   "codemirror_mode": {
    "name": "ipython",
    "version": 3
   },
   "file_extension": ".py",
   "mimetype": "text/x-python",
   "name": "python",
   "nbconvert_exporter": "python",
   "pygments_lexer": "ipython3",
   "version": "3.10.5"
  },
  "vscode": {
   "interpreter": {
    "hash": "b1be5a1e9e85905d3e4e97ef1b769f5caa870a8a58c9f9e0ae488b6f0a0e1baf"
   }
  }
 },
 "nbformat": 4,
 "nbformat_minor": 4
}
