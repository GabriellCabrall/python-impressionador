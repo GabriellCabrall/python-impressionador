{
 "cells": [
  {
   "cell_type": "markdown",
   "metadata": {},
   "source": [
    "### Exemplo: No nosso caso, vamos ver a performance de uma carteira de ativos. Vamos chamar de carteira do Lira.\n",
    "\n",
    "- Temos o arquivo 'Carteira.xlsx' com os ativos e suas respectivas quantidades\n",
    "- Vamos analisar como que os ativos performaram, quanto que rendeu a carteira como um todo e comparar com o IBOV"
   ]
  },
  {
   "cell_type": "code",
   "execution_count": null,
   "metadata": {},
   "outputs": [],
   "source": [
    "import numpy as np\n",
    "import pandas as pd\n",
    "import matplotlib.pyplot as plt\n",
    "import datetime as dt\n",
    "import yfinance as yf\n",
    "\n",
    "carteira = pd.read_excel('Carteira.xlsx')\n",
    "carteira = carteira.drop(carteira[carteira['Ativos'] == 'GNDI3'].index)\n",
    "display(carteira)"
   ]
  },
  {
   "cell_type": "markdown",
   "metadata": {},
   "source": [
    "### Criando nosso dataframe de Cotações dos ativos da carteira"
   ]
  },
  {
   "cell_type": "code",
   "execution_count": null,
   "metadata": {},
   "outputs": [],
   "source": [
    "cotacoes_carteira = pd.DataFrame()\n",
    "\n",
    "start = dt.datetime(2020, 1, 1)\n",
    "end = dt.datetime(2020, 11, 10)\n",
    "\n",
    "for ativo in carteira['Ativos']:\n",
    "    if ativo == 'GNDI3':\n",
    "        pass\n",
    "    else:\n",
    "        cotacoes_carteira[ativo] = yf.download(f'{ativo}.SA', start, end)['Adj Close']\n",
    "    \n",
    "display(cotacoes_carteira)"
   ]
  },
  {
   "cell_type": "markdown",
   "metadata": {},
   "source": [
    "### Será que todos os dados vieram corretos?"
   ]
  },
  {
   "cell_type": "code",
   "execution_count": null,
   "metadata": {},
   "outputs": [],
   "source": [
    "cotacoes_carteira.info()"
   ]
  },
  {
   "cell_type": "markdown",
   "metadata": {},
   "source": [
    "### Ajustando os dados"
   ]
  },
  {
   "cell_type": "code",
   "execution_count": null,
   "metadata": {},
   "outputs": [],
   "source": [
    "# df_media = cotacoes_carteira.mean()\n",
    "# cotacoes_carteira = cotacoes_carteira.fillna(df_media)\n",
    "cotacoes_carteira = cotacoes_carteira.bfill()\n",
    "cotacoes_carteira.info()"
   ]
  },
  {
   "cell_type": "markdown",
   "metadata": {},
   "source": [
    "### Vamos ver como que as ações foram individualmente"
   ]
  },
  {
   "cell_type": "code",
   "execution_count": null,
   "metadata": {},
   "outputs": [],
   "source": [
    "carteira_norm = cotacoes_carteira / cotacoes_carteira.iloc[0]\n",
    "carteira_norm.plot(figsize=(15, 5))\n",
    "plt.legend(loc='upper left')\n",
    "plt.show()"
   ]
  },
  {
   "cell_type": "markdown",
   "metadata": {},
   "source": [
    "### Vamos puxar o IBOV para comparar"
   ]
  },
  {
   "cell_type": "code",
   "execution_count": null,
   "metadata": {},
   "outputs": [],
   "source": [
    "cotacao_ibov = yf.download('^BVSP', start, end)\n",
    "display(cotacao_ibov)"
   ]
  },
  {
   "cell_type": "markdown",
   "metadata": {},
   "source": [
    "### Criando um dataframe da Carteira com as quantidades de ações"
   ]
  },
  {
   "cell_type": "code",
   "execution_count": null,
   "metadata": {},
   "outputs": [],
   "source": [
    "valor_investido = pd.DataFrame()\n",
    "\n",
    "for ativo in carteira['Ativos']:\n",
    "    valor_investido[ativo] = cotacoes_carteira[ativo] * carteira.loc[carteira['Ativos']==ativo, 'Qtde'].values[0]\n",
    "    \n",
    "display(valor_investido)"
   ]
  },
  {
   "cell_type": "markdown",
   "metadata": {},
   "source": [
    "### Comparação Carteira x IBOV"
   ]
  },
  {
   "cell_type": "code",
   "execution_count": null,
   "metadata": {},
   "outputs": [],
   "source": [
    "valor_investido['Total'] = valor_investido.sum(axis=1)\n",
    "\n",
    "valor_investido_norm = valor_investido / valor_investido.iloc[0]\n",
    "cotacao_ibov_norm = cotacao_ibov / cotacao_ibov.iloc[0]\n",
    "\n",
    "valor_investido_norm['Total'].plot(figsize=(15, 5), label='Carteira')\n",
    "cotacao_ibov_norm['Adj Close'].plot(label='IBOV')\n",
    "plt.legend()\n",
    "plt.show()"
   ]
  },
  {
   "cell_type": "code",
   "execution_count": null,
   "metadata": {},
   "outputs": [],
   "source": [
    "retorno_carteira = valor_investido['Total'][-1] / valor_investido['Total'][0] - 1\n",
    "retorno_ibov = cotacao_ibov['Adj Close'][-1] / cotacao_ibov['Adj Close'][0] - 1\n",
    "print('Retorno carteira: {:.2%}'.format(retorno_carteira))\n",
    "print('Retorno IBOV: {:.2%}'.format(retorno_ibov))"
   ]
  },
  {
   "cell_type": "markdown",
   "metadata": {},
   "source": [
    "### Correlação da Carteira com o IBOV"
   ]
  },
  {
   "cell_type": "code",
   "execution_count": null,
   "metadata": {},
   "outputs": [],
   "source": [
    "correlacao = valor_investido['Total'].corr(cotacao_ibov['Adj Close'])\n",
    "print(correlacao)"
   ]
  }
 ],
 "metadata": {
  "kernelspec": {
   "display_name": "Python 3 (ipykernel)",
   "language": "python",
   "name": "python3"
  },
  "language_info": {
   "codemirror_mode": {
    "name": "ipython",
    "version": 3
   },
   "file_extension": ".py",
   "mimetype": "text/x-python",
   "name": "python",
   "nbconvert_exporter": "python",
   "pygments_lexer": "ipython3",
   "version": "3.10.9"
  }
 },
 "nbformat": 4,
 "nbformat_minor": 4
}
