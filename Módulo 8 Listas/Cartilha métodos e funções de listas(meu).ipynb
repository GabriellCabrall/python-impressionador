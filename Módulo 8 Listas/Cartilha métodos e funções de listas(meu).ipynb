{
 "cells": [
  {
   "cell_type": "markdown",
   "id": "ddbb2345",
   "metadata": {},
   "source": [
    "# Métodos e funções em listas\n",
    "\n",
    "Utilize este arquivo para consultar métodos e funções úteis para trabalhar com listas."
   ]
  },
  {
   "cell_type": "markdown",
   "id": "c46e4252",
   "metadata": {},
   "source": [
    "- lista.index('elemento') -> serve para descobrir o índice de algum elemento da lista"
   ]
  },
  {
   "cell_type": "markdown",
   "id": "cad0e9de",
   "metadata": {},
   "source": [
    "    Uso:\n",
    "        produtos = ['tv', 'celular', 'tablet', 'mouse', 'teclado', 'geladeira', 'forno']\n",
    "        i = produtos.index('geladeira')\n",
    "        print(i)\n",
    "    Resultado:\n",
    "        5"
   ]
  },
  {
   "cell_type": "markdown",
   "id": "206a230d",
   "metadata": {},
   "source": [
    "- lista.append(item) -> serve para adicionar itens no final de uma lista"
   ]
  },
  {
   "cell_type": "markdown",
   "id": "d841e2b8",
   "metadata": {},
   "source": [
    "    Uso:\n",
    "        produtos = ['apple tv', 'mac', 'iphone x', 'IPad', 'apple watch', 'mac book', 'airpods']\n",
    "        produtos.append('iphone 11')\n",
    "        print(produtos)\n",
    "    Resultado:\n",
    "        produtos = ['apple tv', 'mac', 'iphone x', 'IPad', 'apple watch', 'mac book', 'airpods', 'iphone 11']"
   ]
  },
  {
   "cell_type": "markdown",
   "id": "23af5c4b",
   "metadata": {},
   "source": [
    "- lista.remove(item) -> serve para remover algum item de uma lista"
   ]
  },
  {
   "cell_type": "markdown",
   "id": "91b28703",
   "metadata": {},
   "source": [
    "    Uso:\n",
    "        produtos = ['apple tv', 'mac', 'iphone x', 'IPad', 'apple watch', 'mac book', 'airpods']\n",
    "        produtos.remove('airpods')\n",
    "        print(produtos)\n",
    "    Resultado:\n",
    "        produtos = ['apple tv', 'mac', 'iphone x', 'IPad', 'apple watch', 'mac book']"
   ]
  },
  {
   "cell_type": "markdown",
   "id": "f72fed48",
   "metadata": {},
   "source": [
    "- lista.pop(indice) -> também serve para remover um item, porém utilizando o índice"
   ]
  },
  {
   "cell_type": "markdown",
   "id": "610bce76",
   "metadata": {},
   "source": [
    "    Uso:\n",
    "        produtos = ['apple tv', 'mac', 'iphone x', 'IPad', 'apple watch', 'mac book', 'airpods']\n",
    "        produtos.pop(0)\n",
    "        print(produtos)\n",
    "    Resultado:\n",
    "        produtos = ['mac', 'iphone x', 'IPad', 'apple watch', 'mac book', 'airpods']"
   ]
  },
  {
   "cell_type": "markdown",
   "id": "03772c20",
   "metadata": {},
   "source": [
    "- len(lista) -> serve para descobrir o tamanho de uma lista"
   ]
  },
  {
   "cell_type": "markdown",
   "id": "065b4d4a",
   "metadata": {},
   "source": [
    "    Uso:\n",
    "        produtos = ['apple tv', 'mac', 'iphone x', 'IPad', 'apple watch', 'mac book', 'airpods']\n",
    "        print(len(produtos))\n",
    "    Resultado:\n",
    "        7"
   ]
  },
  {
   "cell_type": "markdown",
   "id": "62f4d68d",
   "metadata": {},
   "source": [
    "- max(lista) -> serve para descobrir o maior valor de uma lista\n",
    "- min(lista) -> serve para descobrir o menor valor de uma lista"
   ]
  },
  {
   "cell_type": "markdown",
   "id": "5ee7269f",
   "metadata": {},
   "source": [
    "    Uso:\n",
    "        vendas = [1000, 1500, 15000, 270, 900, 100, 1200]\n",
    "        print(max(vendas))\n",
    "        print(min(vendas))\n",
    "    Resultado:\n",
    "        15000\n",
    "        100"
   ]
  },
  {
   "cell_type": "markdown",
   "id": "4f1a6486",
   "metadata": {},
   "source": [
    "- lista1.extend(lista2) -> une duas listas modificando a primeira\n",
    "- lista_nova = lista1 + lista2 -> une duas listas criando uma nova"
   ]
  },
  {
   "cell_type": "markdown",
   "id": "3ced4d33",
   "metadata": {},
   "source": [
    "    Uso:\n",
    "        produtos = ['apple tv', 'mac', 'iphone x', 'iphone 11', 'IPad', 'apple watch', 'mac book', 'airpods']\n",
    "        novos_produtos = ['iphone 12', 'ioculos']\n",
    "        todos_produtos = produtos + novos_produtos\n",
    "        print(todos_produtos)\n",
    "        \n",
    "        produtos.extend(novos_produtos)\n",
    "        print(produtos)\n",
    "    Resultado:\n",
    "        ['apple tv', 'mac', 'iphone x', 'iphone 11', 'IPad', 'apple watch', 'mac book', 'airpods', 'iphone 12', 'ioculos']\n",
    "        ['apple tv', 'mac', 'iphone x', 'iphone 11', 'IPad', 'apple watch', 'mac book', 'airpods', 'iphone 12', 'ioculos']"
   ]
  },
  {
   "cell_type": "markdown",
   "id": "3c5434c5",
   "metadata": {},
   "source": [
    "- texto.join(lista) -> printar os elementos da lista separados por um limitador (texto)"
   ]
  },
  {
   "cell_type": "markdown",
   "id": "7a2abe9e",
   "metadata": {},
   "source": [
    "    Uso:\n",
    "        produtos = ['apple tv', 'mac', 'iphone x', 'iphone 11', 'IPad', 'apple watch', 'mac book', 'airpods']\n",
    "        print(', '.join(produtos))\n",
    "    Resultado:\n",
    "        apple tv, mac, iphone x, iphone 11, IPad, apple watch, mac book, airpods"
   ]
  },
  {
   "cell_type": "markdown",
   "id": "1ba35c29",
   "metadata": {},
   "source": [
    "- lista = texto.split(separador) -> serve para criar uma lista com um texto usando um separador"
   ]
  },
  {
   "cell_type": "markdown",
   "id": "ca6739b2",
   "metadata": {},
   "source": [
    "    Uso:\n",
    "        produtos = 'apple tv, mac, iphone x, iphone 11, IPad, apple watch, mac book, airpods'\n",
    "        lista = produtos.split(', ')\n",
    "\n",
    "        print(lista)\n",
    "    Resultado:\n",
    "        ['apple tv', 'mac', 'iphone x', 'iphone 11', 'IPad', 'apple watch', 'mac book', 'airpods']"
   ]
  },
  {
   "cell_type": "markdown",
   "id": "dcb32a30",
   "metadata": {},
   "source": [
    "- lista.copy() -> cria uma cópia de uma lista"
   ]
  },
  {
   "cell_type": "markdown",
   "id": "c84f9eb8",
   "metadata": {},
   "source": [
    "    Uso:\n",
    "        lista1 = ['ipad', 'iphone x', 'apple tv']\n",
    "        lista2 = lista1.copy()\n",
    "        \n",
    "        print(lista2)\n",
    "    Resultado:\n",
    "        lista = ['ipad', 'iphone x', 'apple tv']"
   ]
  }
 ],
 "metadata": {
  "kernelspec": {
   "display_name": "Python 3 (ipykernel)",
   "language": "python",
   "name": "python3"
  },
  "language_info": {
   "codemirror_mode": {
    "name": "ipython",
    "version": 3
   },
   "file_extension": ".py",
   "mimetype": "text/x-python",
   "name": "python",
   "nbconvert_exporter": "python",
   "pygments_lexer": "ipython3",
   "version": "3.8.16"
  }
 },
 "nbformat": 4,
 "nbformat_minor": 5
}
