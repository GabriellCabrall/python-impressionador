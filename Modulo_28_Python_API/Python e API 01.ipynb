{
 "cells": [
  {
   "cell_type": "markdown",
   "metadata": {},
   "source": [
    "# Python e API\n",
    "\n",
    "### O que é uma API?\n",
    "\n",
    "- É um conjunto de códigos para usar um serviço/site/aplicativo específico. Cada site/ferramenta tem sua própria API. É importante que você saiba ler as APIs que precisar para saber usar\n",
    "\n",
    "- Um dos padrões mais comuns em API é pegar informações em formato json, uma espécie de dicionário que precisa ser tratada no Python para podermos analisar\n",
    "\n",
    "- As possibilidades de API são infinitas, vamos fazer 2 exemplos aqui: Cotação de Moedas e Envio de SMS.\n",
    "\n",
    "- Sites como Google, Youtube, Facebook, Twitter, ArcGis e praticamente qualquer ferramenta/site grande tem uma API.\n",
    "\n",
    "### O que precisamos:\n",
    "\n",
    "- Quase sempre você precisa de uma conta para consumir uma API. Algumas APIs são abertas, como a https://docs.awesomeapi.com.br/api-de-moedas , mas em muitos casos (como veremos no caso do SMS) vamos precisar ter uma conta ativa para consumir a API\n",
    "\n",
    "- A Documentação da API (ou exemplos da internet) é a chave para conseguir usar uma API "
   ]
  },
  {
   "cell_type": "markdown",
   "metadata": {},
   "source": [
    "#### Pegar a Cotação Atual de Todas as Moedas "
   ]
  },
  {
   "cell_type": "code",
   "execution_count": null,
   "metadata": {},
   "outputs": [],
   "source": [
    "import requests\n",
    "import json\n",
    "\n",
    "cotacoes = requests.get('https://economia.awesomeapi.com.br/json/last/USD-BRL,EUR-BRL,BTC-BRL')\n",
    "cotacoes_dic = cotacoes.json()\n",
    "print(cotacoes_dic)"
   ]
  },
  {
   "cell_type": "markdown",
   "metadata": {},
   "source": [
    "#### Qual foi a última cotação do Dólar, do Euro e do BitCoin? (Sua resposta vai dar diferente do gabarito, porque estamos rodando o código em momentos diferentes, mas o seu código deve ser o mesmo/parecido)"
   ]
  },
  {
   "cell_type": "code",
   "execution_count": null,
   "metadata": {},
   "outputs": [],
   "source": [
    "print('Dólar: {}'.format(cotacoes_dic['USDBRL']['bid']))\n",
    "print('Euro: {}'.format(cotacoes_dic['EURBRL']['bid']))\n",
    "print('Bitcoin: {}'.format(cotacoes_dic['BTCBRL']['bid']))"
   ]
  },
  {
   "cell_type": "markdown",
   "metadata": {},
   "source": [
    "#### Pegar a cotação dos últimos 30 dias do dólar (Sua resposta vai dar diferente do gabarito, porque estamos rodando o código em momentos diferentes, mas o seu código deve ser o mesmo/parecido)"
   ]
  },
  {
   "cell_type": "code",
   "execution_count": null,
   "metadata": {},
   "outputs": [],
   "source": [
    "cotacoes30 = requests.get('https://economia.awesomeapi.com.br/json/daily/USD-BRL/30')\n",
    "cotacoes30_dic = cotacoes30.json()\n",
    "# print(cotacoes30_dic[29]['bid'])\n",
    "lista = []\n",
    "\n",
    "for cotacao in cotacoes30_dic:\n",
    "    lista.append(float(cotacao['bid']))\n",
    "print(lista)\n",
    "print('-----------------------------------------------------------------')\n",
    "    \n",
    "\n",
    "lista_cotacoes_dolar = [float(item['bid']) for item in cotacoes30_dic]\n",
    "print(lista_cotacoes_dolar)"
   ]
  },
  {
   "cell_type": "markdown",
   "metadata": {},
   "source": [
    "#### Pegar as cotações do BitCoin de Jan/20 a Out/20"
   ]
  },
  {
   "cell_type": "code",
   "execution_count": null,
   "metadata": {},
   "outputs": [],
   "source": [
    "bitcoin = requests.get('https://economia.awesomeapi.com.br/json/daily/BTC-BRL/200?start_date=20220101&end_date=20221031')\n",
    "bitcoin_dic = bitcoin.json()\n",
    "lista_cotacoes_bitcoin = [float(item['bid']) for item in bitcoin_dic]\n",
    "lista_cotacoes_bitcoin.reverse()\n",
    "print(lista_cotacoes_bitcoin)\n",
    "print(len(lista_cotacoes_bitcoin))"
   ]
  },
  {
   "cell_type": "markdown",
   "metadata": {},
   "source": [
    "#### Gráfico com as cotações do BitCoin"
   ]
  },
  {
   "cell_type": "code",
   "execution_count": null,
   "metadata": {},
   "outputs": [],
   "source": [
    "import matplotlib.pyplot as plt\n",
    "\n",
    "plt.figure(figsize=(15, 5))\n",
    "plt.plot(lista_cotacoes_bitcoin)\n",
    "plt.show()"
   ]
  }
 ],
 "metadata": {
  "kernelspec": {
   "display_name": "Python 3 (ipykernel)",
   "language": "python",
   "name": "python3"
  },
  "language_info": {
   "codemirror_mode": {
    "name": "ipython",
    "version": 3
   },
   "file_extension": ".py",
   "mimetype": "text/x-python",
   "name": "python",
   "nbconvert_exporter": "python",
   "pygments_lexer": "ipython3",
   "version": "3.10.9"
  }
 },
 "nbformat": 4,
 "nbformat_minor": 4
}
