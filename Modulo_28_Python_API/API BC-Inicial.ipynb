{
 "cells": [
  {
   "cell_type": "markdown",
   "id": "3fb208cd",
   "metadata": {},
   "source": [
    "### API do Banco Central\n",
    "\n",
    "https://dadosabertos.bcb.gov.br/dataset?res_format=API"
   ]
  },
  {
   "cell_type": "code",
   "execution_count": null,
   "id": "5719eabd",
   "metadata": {},
   "outputs": [],
   "source": [
    "import requests\n",
    "import pprint\n",
    "\n",
    "link = \"https://olinda.bcb.gov.br/olinda/servico/mecir_dinheiro_em_circulacao/versao/v1/odata/informacoes_diarias?$top=100000&$orderby=Data%20desc&$format=json\"\n",
    "\n",
    "requisicao = requests.get(link)\n",
    "info = requisicao.json()\n",
    "# pprint.pprint(info)"
   ]
  },
  {
   "cell_type": "code",
   "execution_count": null,
   "id": "801b85ae",
   "metadata": {},
   "outputs": [],
   "source": [
    "import pandas as pd\n",
    "\n",
    "tabela = pd.DataFrame(info['value'])\n",
    "# tabela['Quantidade'] = tabela['Quantidade'].map('{:,}'.format)\n",
    "display(tabela)"
   ]
  },
  {
   "cell_type": "code",
   "execution_count": null,
   "id": "293f542e",
   "metadata": {},
   "outputs": [],
   "source": [
    "# pegar todas as informações com várias requisições\n",
    "\n",
    "tabela_final = pd.DataFrame()\n",
    "pular_indice = 0\n",
    "\n",
    "while True:\n",
    "    link = f\"https://olinda.bcb.gov.br/olinda/servico/mecir_dinheiro_em_circulacao/versao/v1/odata/informacoes_diarias?$top=10000&$skip={pular_indice}&$orderby=Data%20asc&$format=json\"\n",
    "    requisicao = requests.get(link)\n",
    "    info = requisicao.json()\n",
    "    tabela = pd.DataFrame(info['value'])\n",
    "    if len(info['value']) < 1:\n",
    "        break\n",
    "    tabela_final = pd.concat([tabela_final, tabela])\n",
    "    pular_indice += 10000\n",
    "    \n",
    "display(tabela_final)"
   ]
  },
  {
   "cell_type": "code",
   "execution_count": null,
   "id": "791379bd",
   "metadata": {},
   "outputs": [],
   "source": [
    "link = \"https://olinda.bcb.gov.br/olinda/servico/mecir_dinheiro_em_circulacao/versao/v1/odata/informacoes_diarias?$top=10000&$skip=100000&$orderby=Data%20asc&$format=json\"\n",
    "requisicao = requests.get(link)\n",
    "info = requisicao.json()\n",
    "print(info)"
   ]
  }
 ],
 "metadata": {
  "kernelspec": {
   "display_name": "Python 3 (ipykernel)",
   "language": "python",
   "name": "python3"
  },
  "language_info": {
   "codemirror_mode": {
    "name": "ipython",
    "version": 3
   },
   "file_extension": ".py",
   "mimetype": "text/x-python",
   "name": "python",
   "nbconvert_exporter": "python",
   "pygments_lexer": "ipython3",
   "version": "3.10.9"
  }
 },
 "nbformat": 4,
 "nbformat_minor": 5
}
