{
 "cells": [
  {
   "cell_type": "markdown",
   "id": "ad2d00dc",
   "metadata": {},
   "source": [
    "### API IBGE\n",
    "\n",
    "https://servicodados.ibge.gov.br/api/docs"
   ]
  },
  {
   "cell_type": "code",
   "execution_count": 1,
   "id": "17ec9d9f",
   "metadata": {},
   "outputs": [],
   "source": [
    "import requests\n",
    "import pprint\n",
    "\n",
    "link = 'https://servicodados.ibge.gov.br/api/v3/agregados/7392/periodos/2014/variaveis/10484?localidades=N1[all]'\n",
    "\n",
    "requisicao = requests.get(link)\n",
    "info = requisicao.json()\n",
    "\n",
    "# pprint.pprint(info[0]['resultados'][0]['series'])\n",
    "\n",
    "item_busca = info[0]['variavel']\n",
    "resultado = info[0]['resultados'][0]['series']\n",
    "\n",
    "# print(resultado)"
   ]
  },
  {
   "cell_type": "code",
   "execution_count": 2,
   "id": "d062d955",
   "metadata": {},
   "outputs": [
    {
     "name": "stdout",
     "output_type": "stream",
     "text": [
      "Número de espécies da fauna e da flora brasileira avaliadas quanto ao risco de extinção\n",
      "[{'localidade': {'id': '1', 'nivel': {'id': 'N1', 'nome': 'Brasil'}, 'nome': 'Brasil'}, 'serie': {'2014': '16645'}}]\n"
     ]
    }
   ],
   "source": [
    "print(item_busca)\n",
    "print(resultado)"
   ]
  }
 ],
 "metadata": {
  "kernelspec": {
   "display_name": "Python 3 (ipykernel)",
   "language": "python",
   "name": "python3"
  },
  "language_info": {
   "codemirror_mode": {
    "name": "ipython",
    "version": 3
   },
   "file_extension": ".py",
   "mimetype": "text/x-python",
   "name": "python",
   "nbconvert_exporter": "python",
   "pygments_lexer": "ipython3",
   "version": "3.10.9"
  }
 },
 "nbformat": 4,
 "nbformat_minor": 5
}
