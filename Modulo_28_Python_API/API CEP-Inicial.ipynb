{
 "cells": [
  {
   "cell_type": "markdown",
   "id": "7e57525e",
   "metadata": {},
   "source": [
    "### Via CEP\n",
    "\n",
    "https://viacep.com.br/"
   ]
  },
  {
   "cell_type": "markdown",
   "id": "84f1d631",
   "metadata": {},
   "source": [
    "#### Consulta de informações de um CEP"
   ]
  },
  {
   "cell_type": "code",
   "execution_count": null,
   "id": "fe813e51",
   "metadata": {},
   "outputs": [],
   "source": [
    "import requests\n",
    "\n",
    "cep = '20090002'\n",
    "\n",
    "link = f'https://viacep.com.br/ws/{cep}/json/'\n",
    "\n",
    "requisicao = requests.get(link)\n",
    "print(requisicao)\n",
    "dic_requisicao = requisicao.json()\n",
    "\n",
    "uf = dic_requisicao['uf']\n",
    "localidade = dic_requisicao['localidade']\n",
    "\n",
    "print(dic_requisicao)\n",
    "print('Endereço localizado em {} - {}'.format(localidade, uf))"
   ]
  },
  {
   "cell_type": "markdown",
   "id": "0abd6940",
   "metadata": {},
   "source": [
    "#### Busca de CEP a partir de endereço"
   ]
  },
  {
   "cell_type": "code",
   "execution_count": null,
   "id": "270edfa9",
   "metadata": {},
   "outputs": [],
   "source": [
    "uf = dic_requisicao['uf']\n",
    "cidade = dic_requisicao['localidade']\n",
    "logradouro = 'Rio Branco'\n",
    "\n",
    "link = f'https://viacep.com.br/ws/{uf}/{cidade}/{logradouro}/json/'\n",
    "\n",
    "requisicao_cep = requests.get(link)\n",
    "dic_requisicao_cep = requisicao_cep.json()\n",
    "print(len(dic_requisicao_cep))\n",
    "print(dic_requisicao_cep)"
   ]
  },
  {
   "cell_type": "code",
   "execution_count": null,
   "id": "7936ecc6",
   "metadata": {},
   "outputs": [],
   "source": [
    "import pandas as pd\n",
    "\n",
    "tabela = pd.DataFrame(dic_requisicao_cep)\n",
    "\n",
    "display(tabela)"
   ]
  }
 ],
 "metadata": {
  "kernelspec": {
   "display_name": "Python 3 (ipykernel)",
   "language": "python",
   "name": "python3"
  },
  "language_info": {
   "codemirror_mode": {
    "name": "ipython",
    "version": 3
   },
   "file_extension": ".py",
   "mimetype": "text/x-python",
   "name": "python",
   "nbconvert_exporter": "python",
   "pygments_lexer": "ipython3",
   "version": "3.10.9"
  }
 },
 "nbformat": 4,
 "nbformat_minor": 5
}
