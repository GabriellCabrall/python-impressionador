{
 "cells": [
  {
   "cell_type": "code",
   "execution_count": 1,
   "id": "c617ba50",
   "metadata": {},
   "outputs": [
    {
     "name": "stdout",
     "output_type": "stream",
     "text": [
      "Please visit this URL to authorize this application: https://accounts.google.com/o/oauth2/auth?response_type=code&client_id=682390279695-3j5srr2oncvqfr6rbt822ka01olqk0le.apps.googleusercontent.com&redirect_uri=http%3A%2F%2Flocalhost%3A50930%2F&scope=https%3A%2F%2Fwww.googleapis.com%2Fauth%2Fspreadsheets&state=MfqCT5OwhIjnAdCV4p9NMAIFizr1KT&access_type=offline\n"
     ]
    }
   ],
   "source": [
    "from __future__ import print_function\n",
    "\n",
    "import os.path\n",
    "\n",
    "from google.auth.transport.requests import Request\n",
    "from google.oauth2.credentials import Credentials\n",
    "from google_auth_oauthlib.flow import InstalledAppFlow\n",
    "from googleapiclient.discovery import build\n",
    "from googleapiclient.errors import HttpError\n",
    "\n",
    "# If modifying these scopes, delete the file token.json.\n",
    "SCOPES = ['https://www.googleapis.com/auth/spreadsheets']\n",
    "\n",
    "# The ID and range of a sample spreadsheet.\n",
    "SAMPLE_SPREADSHEET_ID = '1kNEJ6p20jLbODlfukiDWunokOlAPw1irwX8Z-VP4QII'\n",
    "SAMPLE_RANGE_NAME = 'Página1!A1:B12'\n",
    "\n",
    "\n",
    "def main():\n",
    "\n",
    "    creds = None\n",
    "\n",
    "    if os.path.exists('token.json'):\n",
    "        creds = Credentials.from_authorized_user_file('token.json', SCOPES)\n",
    "    # If there are no (valid) credentials available, let the user log in.\n",
    "    if not creds or not creds.valid:\n",
    "        if creds and creds.expired and creds.refresh_token:\n",
    "            creds.refresh(Request())\n",
    "        else:\n",
    "            flow = InstalledAppFlow.from_client_secrets_file(\n",
    "                'credentials.json', SCOPES)\n",
    "            creds = flow.run_local_server(port=0)\n",
    "        # Save the credentials for the next run\n",
    "        with open('token.json', 'w') as token:\n",
    "            token.write(creds.to_json())\n",
    "\n",
    "#     try:\n",
    "#         service = build('sheets', 'v4', credentials=creds)\n",
    "\n",
    "#         # Call the Sheets API\n",
    "#         sheet = service.spreadsheets()\n",
    "#         result = sheet.values().get(spreadsheetId=SAMPLE_SPREADSHEET_ID,\n",
    "#                                     range=SAMPLE_RANGE_NAME).execute()\n",
    "#         values = result.get('values', [])\n",
    "\n",
    "#         if not values:\n",
    "#             print('No data found.')\n",
    "#             return\n",
    "\n",
    "#         print('Name, Major:')\n",
    "#         for row in values:\n",
    "#             # Print columns A and E, which correspond to indices 0 and 4.\n",
    "#             print('%s, %s' % (row[0], row[4]))\n",
    "#     except HttpError as err:\n",
    "#         print(err)\n",
    "\n",
    "\n",
    "if __name__ == '__main__':\n",
    "    main()"
   ]
  },
  {
   "cell_type": "code",
   "execution_count": null,
   "id": "78cb705c",
   "metadata": {},
   "outputs": [],
   "source": []
  }
 ],
 "metadata": {
  "kernelspec": {
   "display_name": "Python 3 (ipykernel)",
   "language": "python",
   "name": "python3"
  },
  "language_info": {
   "codemirror_mode": {
    "name": "ipython",
    "version": 3
   },
   "file_extension": ".py",
   "mimetype": "text/x-python",
   "name": "python",
   "nbconvert_exporter": "python",
   "pygments_lexer": "ipython3",
   "version": "3.10.9"
  }
 },
 "nbformat": 4,
 "nbformat_minor": 5
}
