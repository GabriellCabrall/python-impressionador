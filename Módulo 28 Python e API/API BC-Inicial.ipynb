{
 "cells": [
  {
   "cell_type": "markdown",
   "id": "3fb208cd",
   "metadata": {},
   "source": [
    "### API do Banco Central\n",
    "\n",
    "https://dadosabertos.bcb.gov.br/dataset?res_format=API"
   ]
  },
  {
   "cell_type": "code",
   "execution_count": 30,
   "id": "5719eabd",
   "metadata": {},
   "outputs": [],
   "source": [
    "import requests\n",
    "import pprint\n",
    "\n",
    "link = \"https://olinda.bcb.gov.br/olinda/servico/mecir_dinheiro_em_circulacao/versao/v1/odata/informacoes_diarias?$top=100000&$orderby=Data%20desc&$format=json\"\n",
    "\n",
    "requisicao = requests.get(link)\n",
    "info = requisicao.json()\n",
    "# pprint.pprint(info)"
   ]
  },
  {
   "cell_type": "code",
   "execution_count": 34,
   "id": "801b85ae",
   "metadata": {},
   "outputs": [
    {
     "data": {
      "text/html": [
       "<div>\n",
       "<style scoped>\n",
       "    .dataframe tbody tr th:only-of-type {\n",
       "        vertical-align: middle;\n",
       "    }\n",
       "\n",
       "    .dataframe tbody tr th {\n",
       "        vertical-align: top;\n",
       "    }\n",
       "\n",
       "    .dataframe thead th {\n",
       "        text-align: right;\n",
       "    }\n",
       "</style>\n",
       "<table border=\"1\" class=\"dataframe\">\n",
       "  <thead>\n",
       "    <tr style=\"text-align: right;\">\n",
       "      <th></th>\n",
       "    </tr>\n",
       "  </thead>\n",
       "  <tbody>\n",
       "  </tbody>\n",
       "</table>\n",
       "</div>"
      ],
      "text/plain": [
       "Empty DataFrame\n",
       "Columns: []\n",
       "Index: []"
      ]
     },
     "metadata": {},
     "output_type": "display_data"
    }
   ],
   "source": [
    "import pandas as pd\n",
    "\n",
    "tabela = pd.DataFrame(info['value'])\n",
    "# tabela['Quantidade'] = tabela['Quantidade'].map('{:,}'.format)\n",
    "display(tabela)"
   ]
  },
  {
   "cell_type": "code",
   "execution_count": null,
   "id": "293f542e",
   "metadata": {},
   "outputs": [],
   "source": [
    "# pegar todas as informações com várias requisições\n",
    "\n",
    "while True:\n",
    "    link = \"https://olinda.bcb.gov.br/olinda/servico/mecir_dinheiro_em_circulacao/versao/v1/odata/informacoes_diarias?$top=10000&$skip=9999&$orderby=Data%20asc&$format=json\"\n",
    "    requisicao = requests.get(link)\n",
    "    info = requisicao.json()\n",
    "    tabela = pd.DataFrame(info['value'])"
   ]
  },
  {
   "cell_type": "code",
   "execution_count": 33,
   "id": "791379bd",
   "metadata": {},
   "outputs": [],
   "source": [
    "link = \"https://olinda.bcb.gov.br/olinda/servico/mecir_dinheiro_em_circulacao/versao/v1/odata/informacoes_diarias?$top=10000&$skip=100000&$orderby=Data%20asc&$format=json\"\n",
    "requisicao = requests.get(link)\n",
    "info = requisicao.json()"
   ]
  }
 ],
 "metadata": {
  "kernelspec": {
   "display_name": "Python 3 (ipykernel)",
   "language": "python",
   "name": "python3"
  },
  "language_info": {
   "codemirror_mode": {
    "name": "ipython",
    "version": 3
   },
   "file_extension": ".py",
   "mimetype": "text/x-python",
   "name": "python",
   "nbconvert_exporter": "python",
   "pygments_lexer": "ipython3",
   "version": "3.10.9"
  }
 },
 "nbformat": 4,
 "nbformat_minor": 5
}
